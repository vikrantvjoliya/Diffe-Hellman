{
 "cells": [
  {
   "cell_type": "markdown",
   "metadata": {},
   "source": [
    "### Encryption & Decryption Using Diffie Hellman Algorithm"
   ]
  },
  {
   "cell_type": "markdown",
   "metadata": {},
   "source": [
    "Purpose of work:"
   ]
  },
  {
   "cell_type": "markdown",
   "metadata": {},
   "source": [
    "Implement the Diffie-Hellman session key co-generation protocol. Requirements for work:\n",
    " * Development of two independent modules participating in the protocol.\n",
    " * Implement a man-in-the-middle attack\n",
    " * The report should contain a description of the protocol with an indication of the implementation features, examples of the program."
   ]
  },
  {
   "cell_type": "markdown",
   "metadata": {},
   "source": [
    "### Progress:"
   ]
  },
  {
   "cell_type": "markdown",
   "metadata": {},
   "source": [
    "Diffie – Hellman Protocol (DH) ** is a cryptographic protocol that allows two or more parties to obtain a shared secret key using a communication channel unprotected from eavesdropping. The resulting key is used to encrypt further exchange using symmetric encryption algorithms"
   ]
  },
  {
   "cell_type": "markdown",
   "metadata": {},
   "source": [
    "#### Implementation in language Python"
   ]
  },
  {
   "cell_type": "code",
   "execution_count": 1,
   "metadata": {},
   "outputs": [],
   "source": [
    "class DiffieHellman:\n",
    "    def __init__(self, g, p, private_key):\n",
    "        self.g = g\n",
    "        self.p = p\n",
    "        self.private_key = private_key\n",
    "        self.full_key = None\n",
    "\n",
    "    def generate_public_key(self):\n",
    "        public_key = (self.g ** self.private_key) % self.p\n",
    "        return public_key\n",
    "\n",
    "    def generate_full_key(self, public_key):\n",
    "        full_key = (public_key ** self.private_key) % self.p\n",
    "        self.full_key = full_key\n",
    "        return full_key\n",
    "\n",
    "    def encrypt_message(self, message):\n",
    "        encrypted_message = \"\"\n",
    "        for c in message:\n",
    "            encrypted_message += chr(ord(c) + self.full_key)\n",
    "        return encrypted_message\n",
    "\n",
    "    def decrypt_message(self, encrypted_message):\n",
    "        decrypted_message = \"\"\n",
    "        for c in encrypted_message:\n",
    "            decrypted_message += chr(ord(c) - self.full_key)\n",
    "        return decrypted_message\n",
    "    \n",
    "    def __str__(self):\n",
    "        return f'g = {self.g}\\np = {self.p}\\nprivate_key = {self.private_key}\\nfull_key = {self.full_key}'"
   ]
  },
  {
   "cell_type": "markdown",
   "metadata": {},
   "source": [
    "The DiffieHellman class provides the following methods:\n",
    "\n",
    "`__init __ (self, g, p, private_key)` - a constructor to create a subscriber; \n",
    "\n",
    "`generate_public_key (self)` - method for generating a public key; \n",
    "\n",
    "`generate_full_key (self, public_key)` - a method for generating a full public key that takes a public key as a parameter; \n",
    "\n",
    "`encrypt_message (self, message)` - a message encryption method based on a simple replacement (shift) cipher;\n",
    "\n",
    "`decrypt_message (self, encrypted_message)` - a method for decrypting a message based on a simple replacement (shift) cipher; \n",
    "\n",
    "`__str __ (self)` - method for displaying complete information about the subscriber"
   ]
  },
  {
   "cell_type": "markdown",
   "metadata": {},
   "source": [
    "Let's set the initial parameters"
   ]
  },
  {
   "cell_type": "code",
   "execution_count": 48,
   "metadata": {},
   "outputs": [],
   "source": [
    "message = \"HEY DIFFIE is COOL\"\n",
    "g = 2\n",
    "p = 211\n",
    "a = 23\n",
    "b = 31"
   ]
  },
  {
   "cell_type": "code",
   "execution_count": 49,
   "metadata": {},
   "outputs": [],
   "source": [
    "alice = DiffieHellman(g, p, a)\n",
    "bob = DiffieHellman(g, p, b)"
   ]
  },
  {
   "cell_type": "markdown",
   "metadata": {},
   "source": [
    "Computing public keys"
   ]
  },
  {
   "cell_type": "markdown",
   "metadata": {},
   "source": [
    "$$ga = g^a mod p$$"
   ]
  },
  {
   "cell_type": "code",
   "execution_count": 50,
   "metadata": {},
   "outputs": [],
   "source": [
    "ga = alice.generate_public_key()"
   ]
  },
  {
   "cell_type": "code",
   "execution_count": 51,
   "metadata": {},
   "outputs": [
    {
     "data": {
      "text/plain": [
       "92"
      ]
     },
     "execution_count": 51,
     "metadata": {},
     "output_type": "execute_result"
    }
   ],
   "source": [
    "ga"
   ]
  },
  {
   "cell_type": "markdown",
   "metadata": {},
   "source": [
    "$$gb = g^b mod p$$"
   ]
  },
  {
   "cell_type": "code",
   "execution_count": 52,
   "metadata": {},
   "outputs": [],
   "source": [
    "gb = bob.generate_public_key()"
   ]
  },
  {
   "cell_type": "code",
   "execution_count": 53,
   "metadata": {},
   "outputs": [
    {
     "data": {
      "text/plain": [
       "131"
      ]
     },
     "execution_count": 53,
     "metadata": {},
     "output_type": "execute_result"
    }
   ],
   "source": [
    "gb"
   ]
  },
  {
   "cell_type": "markdown",
   "metadata": {},
   "source": [
    "Public key exchange and shared secret key generation"
   ]
  },
  {
   "cell_type": "markdown",
   "metadata": {},
   "source": [
    "$$K_a = gb^a mod p = g^{ab} mod p$$"
   ]
  },
  {
   "cell_type": "code",
   "execution_count": 54,
   "metadata": {},
   "outputs": [],
   "source": [
    "alice_full_key = alice.generate_full_key(gb)"
   ]
  },
  {
   "cell_type": "code",
   "execution_count": 55,
   "metadata": {},
   "outputs": [
    {
     "data": {
      "text/plain": [
       "133"
      ]
     },
     "execution_count": 55,
     "metadata": {},
     "output_type": "execute_result"
    }
   ],
   "source": [
    "alice_full_key"
   ]
  },
  {
   "cell_type": "markdown",
   "metadata": {},
   "source": [
    "$$K_b = ga^b mod p = g^{ab} mod p$$"
   ]
  },
  {
   "cell_type": "code",
   "execution_count": 56,
   "metadata": {},
   "outputs": [],
   "source": [
    "bob_full_key = bob.generate_full_key(ga)"
   ]
  },
  {
   "cell_type": "code",
   "execution_count": 57,
   "metadata": {},
   "outputs": [
    {
     "data": {
      "text/plain": [
       "133"
      ]
     },
     "execution_count": 57,
     "metadata": {},
     "output_type": "execute_result"
    }
   ],
   "source": [
    "bob_full_key"
   ]
  },
  {
   "cell_type": "markdown",
   "metadata": {},
   "source": [
    "Thus, you can see that the keys of Alice and Bob are the same.\n",
    "$$K = g^{ab} mod p$$"
   ]
  },
  {
   "cell_type": "markdown",
   "metadata": {},
   "source": [
    "Exchange of messages using a shared secret. For demonstration, a simple replacement cipher is used."
   ]
  },
  {
   "cell_type": "code",
   "execution_count": 58,
   "metadata": {},
   "outputs": [],
   "source": [
    "encrypted_message = alice.encrypt_message(message)"
   ]
  },
  {
   "cell_type": "code",
   "execution_count": 59,
   "metadata": {},
   "outputs": [
    {
     "data": {
      "text/plain": [
       "'ÍÊÞ¥ÉÎËËÎÊ¥îø¥ÈÔÔÑ'"
      ]
     },
     "execution_count": 59,
     "metadata": {},
     "output_type": "execute_result"
    }
   ],
   "source": [
    "encrypted_message"
   ]
  },
  {
   "cell_type": "code",
   "execution_count": 60,
   "metadata": {},
   "outputs": [],
   "source": [
    "decrypted_message = bob.decrypt_message(encrypted_message)"
   ]
  },
  {
   "cell_type": "code",
   "execution_count": 61,
   "metadata": {},
   "outputs": [
    {
     "data": {
      "text/plain": [
       "'HEY DIFFIE is COOL'"
      ]
     },
     "execution_count": 61,
     "metadata": {},
     "output_type": "execute_result"
    }
   ],
   "source": [
    "decrypted_message"
   ]
  },
  {
   "cell_type": "markdown",
   "metadata": {},
   "source": [
    "### Man-in-the-middle attack"
   ]
  },
  {
   "cell_type": "markdown",
   "metadata": {},
   "source": [
    "A Man in the Middle (MITM) attack is a type of cryptography and computer security attack in which an attacker secretly relays and, if necessary, alters communications between two parties who believe they are directly communicating with each other. It is a method of compromising a communication channel, in which an attacker, having connected to a channel between counterparties, interferes with the transmission protocol, deleting or distorting information. \n",
    "\n",
    "Neither Alice nor Bob can reliably determine who their interlocutor is, so it is quite possible to imagine a case in which Bob and Alice established a connection with Eve, who impersonates Alice as Bob, and Bob introduces herself as Alice. \n",
    "\n",
    "Eve has her own private keys to communicate with Bob (eve_a) and Alice (eve_b)"
   ]
  },
  {
   "cell_type": "code",
   "execution_count": 32,
   "metadata": {},
   "outputs": [],
   "source": [
    "message2 = \"Eve HACKED IT\"\n",
    "eve_a = 13\n",
    "eve_b = 27"
   ]
  },
  {
   "cell_type": "markdown",
   "metadata": {},
   "source": [
    "Eve generates public keys"
   ]
  },
  {
   "cell_type": "code",
   "execution_count": 33,
   "metadata": {},
   "outputs": [],
   "source": [
    "eve_ga = (g ** eve_a) % p\n",
    "eve_gb = (g ** eve_b) % p"
   ]
  },
  {
   "cell_type": "markdown",
   "metadata": {},
   "source": [
    "It passes them on to Alice and Bob, who generate shared secret keys. But in this case, they will not be the same, since Eve has one shared key with Alice (who believes that it is Bob) and one shared key with Bob (who believes that it is Alice). And, therefore, she can receive any message from Alice for Bob, decrypt it with the key, read, change, encrypt with the key, and send it to Bob. Thus, forgery can go unnoticed for a very long time."
   ]
  },
  {
   "cell_type": "code",
   "execution_count": 34,
   "metadata": {},
   "outputs": [],
   "source": [
    "eve_alice_full_key = alice.generate_full_key(eve_gb)"
   ]
  },
  {
   "cell_type": "code",
   "execution_count": 35,
   "metadata": {},
   "outputs": [
    {
     "data": {
      "text/plain": [
       "68"
      ]
     },
     "execution_count": 35,
     "metadata": {},
     "output_type": "execute_result"
    }
   ],
   "source": [
    "eve_alice_full_key"
   ]
  },
  {
   "cell_type": "code",
   "execution_count": 36,
   "metadata": {},
   "outputs": [],
   "source": [
    "eve_bob_full_key = bob.generate_full_key(eve_ga)"
   ]
  },
  {
   "cell_type": "code",
   "execution_count": 37,
   "metadata": {},
   "outputs": [
    {
     "data": {
      "text/plain": [
       "175"
      ]
     },
     "execution_count": 37,
     "metadata": {},
     "output_type": "execute_result"
    }
   ],
   "source": [
    "eve_bob_full_key"
   ]
  },
  {
   "cell_type": "code",
   "execution_count": 38,
   "metadata": {},
   "outputs": [
    {
     "name": "stdout",
     "output_type": "stream",
     "text": [
      "g = 2\n",
      "p = 211\n",
      "private_key = 23\n",
      "full_key = 68\n"
     ]
    }
   ],
   "source": [
    "print(alice)"
   ]
  },
  {
   "cell_type": "code",
   "execution_count": 39,
   "metadata": {},
   "outputs": [
    {
     "name": "stdout",
     "output_type": "stream",
     "text": [
      "g = 2\n",
      "p = 211\n",
      "private_key = 31\n",
      "full_key = 175\n"
     ]
    }
   ],
   "source": [
    "print(bob)"
   ]
  },
  {
   "cell_type": "markdown",
   "metadata": {},
   "source": [
    "Alice encrypts the message with her full secret key"
   ]
  },
  {
   "cell_type": "code",
   "execution_count": 40,
   "metadata": {},
   "outputs": [],
   "source": [
    "encrypted_message2 = alice.encrypt_message(message2)"
   ]
  },
  {
   "cell_type": "code",
   "execution_count": 41,
   "metadata": {},
   "outputs": [
    {
     "data": {
      "text/plain": [
       "'\\x89º©d\\x8c\\x85\\x87\\x8f\\x89\\x88d\\x8d\\x98'"
      ]
     },
     "execution_count": 41,
     "metadata": {},
     "output_type": "execute_result"
    }
   ],
   "source": [
    "encrypted_message2"
   ]
  },
  {
   "cell_type": "markdown",
   "metadata": {},
   "source": [
    "Eve decrypts Alice's message and reads it"
   ]
  },
  {
   "cell_type": "code",
   "execution_count": 42,
   "metadata": {},
   "outputs": [],
   "source": [
    "eve_decrypted_message = \"\"\n",
    "for c in encrypted_message2:\n",
    "    eve_decrypted_message += chr(ord(c) - eve_alice_full_key)"
   ]
  },
  {
   "cell_type": "code",
   "execution_count": 43,
   "metadata": {},
   "outputs": [
    {
     "data": {
      "text/plain": [
       "'Eve HACKED IT'"
      ]
     },
     "execution_count": 43,
     "metadata": {},
     "output_type": "execute_result"
    }
   ],
   "source": [
    "eve_decrypted_message"
   ]
  },
  {
   "cell_type": "markdown",
   "metadata": {},
   "source": [
    "Eve modifies Alice's message and encrypts it with Bob's shared key"
   ]
  },
  {
   "cell_type": "code",
   "execution_count": 44,
   "metadata": {},
   "outputs": [],
   "source": [
    "eve_message = \"HEY I DID MITM\"\n",
    "eve_encrypted_message = \"\"\n",
    "for c in eve_message:\n",
    "    eve_encrypted_message += chr(ord(c) + eve_bob_full_key)"
   ]
  },
  {
   "cell_type": "code",
   "execution_count": 45,
   "metadata": {},
   "outputs": [
    {
     "data": {
      "text/plain": [
       "'÷ôĈÏøÏóøóÏüøăü'"
      ]
     },
     "execution_count": 45,
     "metadata": {},
     "output_type": "execute_result"
    }
   ],
   "source": [
    "eve_encrypted_message"
   ]
  },
  {
   "cell_type": "markdown",
   "metadata": {},
   "source": [
    "Bob decrypts the message and receives not at all what Alice sent him, but the message sent by Eve."
   ]
  },
  {
   "cell_type": "code",
   "execution_count": 46,
   "metadata": {},
   "outputs": [],
   "source": [
    "decrypted_message2 = bob.decrypt_message(eve_encrypted_message)"
   ]
  },
  {
   "cell_type": "code",
   "execution_count": 47,
   "metadata": {},
   "outputs": [
    {
     "data": {
      "text/plain": [
       "'HEY I DID MITM'"
      ]
     },
     "execution_count": 47,
     "metadata": {},
     "output_type": "execute_result"
    }
   ],
   "source": [
    "decrypted_message2"
   ]
  },
  {
   "cell_type": "markdown",
   "metadata": {},
   "source": [
    "### Conclusions"
   ]
  },
  {
   "cell_type": "markdown",
   "metadata": {},
   "source": [
    "Implemented the Diffie-Hellman session key joint generation protocol in Python. A man-in-the-middle attack was also implemented, as a result of which it was found that the Diffie-Hellman protocol is vulnerable to this attack. Therefore, to use it, it is necessary to use additional security methods (digital signature, hash function, etc.)."
   ]
  },
  {
   "cell_type": "code",
   "execution_count": null,
   "metadata": {},
   "outputs": [],
   "source": []
  }
 ],
 "metadata": {
  "kernelspec": {
   "display_name": "Python 3",
   "language": "python",
   "name": "python3"
  },
  "language_info": {
   "codemirror_mode": {
    "name": "ipython",
    "version": 3
   },
   "file_extension": ".py",
   "mimetype": "text/x-python",
   "name": "python",
   "nbconvert_exporter": "python",
   "pygments_lexer": "ipython3",
   "version": "3.8.5"
  }
 },
 "nbformat": 4,
 "nbformat_minor": 4
}
